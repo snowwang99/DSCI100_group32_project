{
 "cells": [
  {
   "cell_type": "markdown",
   "metadata": {},
   "source": [
    "# DSCI100 Group 32 Project Final Report"
   ]
  },
  {
   "cell_type": "markdown",
   "metadata": {},
   "source": [
    "\n",
    "## Title:\n",
    "## User Knowledge Modeling Data Set: Using Regression to Predict Student Exam Performance by Study Time \n"
   ]
  },
  {
   "cell_type": "markdown",
   "metadata": {},
   "source": [
    "##### Authors: Xue Wang, Renee Li, Selina Wang"
   ]
  },
  {
   "cell_type": "markdown",
   "metadata": {},
   "source": [
    "## 1.Introduction:"
   ]
  },
  {
   "cell_type": "markdown",
   "metadata": {},
   "source": [
    "In this study, we will be exploring and predicting students’ exam performance about Electrical DC Machines based on their study time. The question we will try to answer with our project is: What will a student’s exam performance be based on their study time? In our project, we will be using the User Knowledge Modeling Data Set, which has a total of 5 variables observed about students, in addition to the classified knowledge level of user (UNS): \n",
    "\n",
    "* STG: the degree of study time for goal object materials\n",
    "* SCG: the degree of repetition number of user for goal object materials \n",
    "* STR: the degree of study time of user for related objects with goal object\n",
    "* LPR: the exam performance of user for related objects with goal object\n",
    "* PEG: the exam performance of user for goal objects\n",
    "\n",
    "These variables were drawn from students’ learning-related activities on the web. The data was also already tidy and pre-divided into training and testing subsets.\n"
   ]
  },
  {
   "cell_type": "markdown",
   "metadata": {},
   "source": [
    "Our project question is highly related to student life, especially with finals season coming quickly. Hence, we were inspired to choose study time as one of our predictors so we can analyze the relationship between our study time and exam performance in order to design an effective study plan."
   ]
  },
  {
   "cell_type": "markdown",
   "metadata": {},
   "source": [
    "We believe there to be a positive relationship between PEG and STG, since it is natural to assume that increasing the degree of study time would result in higher/better exam performance. As STG increases, so should PEG.\n",
    "\n",
    "Hence, here we are going to pick STG as the predictor(explanatory variable) and PEG is going to be used as our response variable."
   ]
  },
  {
   "cell_type": "markdown",
   "metadata": {},
   "source": [
    "#### 1.1 Loading the libraries that we need for the data analysis\n",
    "The library we need for reading and analyzing the dataset."
   ]
  },
  {
   "cell_type": "code",
   "execution_count": 3,
   "metadata": {},
   "outputs": [
    {
     "name": "stderr",
     "output_type": "stream",
     "text": [
      "── \u001b[1mAttaching packages\u001b[22m ─────────────────────────────────────── tidyverse 1.3.0 ──\n",
      "\n",
      "\u001b[32m✔\u001b[39m \u001b[34mggplot2\u001b[39m 3.3.2     \u001b[32m✔\u001b[39m \u001b[34mpurrr  \u001b[39m 0.3.4\n",
      "\u001b[32m✔\u001b[39m \u001b[34mtibble \u001b[39m 3.0.3     \u001b[32m✔\u001b[39m \u001b[34mdplyr  \u001b[39m 1.0.2\n",
      "\u001b[32m✔\u001b[39m \u001b[34mtidyr  \u001b[39m 1.1.2     \u001b[32m✔\u001b[39m \u001b[34mstringr\u001b[39m 1.4.0\n",
      "\u001b[32m✔\u001b[39m \u001b[34mreadr  \u001b[39m 1.3.1     \u001b[32m✔\u001b[39m \u001b[34mforcats\u001b[39m 0.5.0\n",
      "\n",
      "Warning message:\n",
      "“package ‘ggplot2’ was built under R version 4.0.1”\n",
      "Warning message:\n",
      "“package ‘tibble’ was built under R version 4.0.2”\n",
      "Warning message:\n",
      "“package ‘tidyr’ was built under R version 4.0.2”\n",
      "Warning message:\n",
      "“package ‘dplyr’ was built under R version 4.0.2”\n",
      "── \u001b[1mConflicts\u001b[22m ────────────────────────────────────────── tidyverse_conflicts() ──\n",
      "\u001b[31m✖\u001b[39m \u001b[34mdplyr\u001b[39m::\u001b[32mfilter()\u001b[39m masks \u001b[34mstats\u001b[39m::filter()\n",
      "\u001b[31m✖\u001b[39m \u001b[34mdplyr\u001b[39m::\u001b[32mlag()\u001b[39m    masks \u001b[34mstats\u001b[39m::lag()\n",
      "\n",
      "Warning message:\n",
      "“package ‘tidymodels’ was built under R version 4.0.2”\n",
      "── \u001b[1mAttaching packages\u001b[22m ────────────────────────────────────── tidymodels 0.1.1 ──\n",
      "\n",
      "\u001b[32m✔\u001b[39m \u001b[34mbroom    \u001b[39m 0.7.0      \u001b[32m✔\u001b[39m \u001b[34mrecipes  \u001b[39m 0.1.13\n",
      "\u001b[32m✔\u001b[39m \u001b[34mdials    \u001b[39m 0.0.9      \u001b[32m✔\u001b[39m \u001b[34mrsample  \u001b[39m 0.0.7 \n",
      "\u001b[32m✔\u001b[39m \u001b[34minfer    \u001b[39m 0.5.4      \u001b[32m✔\u001b[39m \u001b[34mtune     \u001b[39m 0.1.1 \n",
      "\u001b[32m✔\u001b[39m \u001b[34mmodeldata\u001b[39m 0.0.2      \u001b[32m✔\u001b[39m \u001b[34mworkflows\u001b[39m 0.2.0 \n",
      "\u001b[32m✔\u001b[39m \u001b[34mparsnip  \u001b[39m 0.1.3      \u001b[32m✔\u001b[39m \u001b[34myardstick\u001b[39m 0.0.7 \n",
      "\n",
      "Warning message:\n",
      "“package ‘broom’ was built under R version 4.0.2”\n",
      "Warning message:\n",
      "“package ‘dials’ was built under R version 4.0.2”\n",
      "Warning message:\n",
      "“package ‘infer’ was built under R version 4.0.3”\n",
      "Warning message:\n",
      "“package ‘modeldata’ was built under R version 4.0.1”\n",
      "Warning message:\n",
      "“package ‘parsnip’ was built under R version 4.0.2”\n",
      "Warning message:\n",
      "“package ‘recipes’ was built under R version 4.0.1”\n",
      "Warning message:\n",
      "“package ‘tune’ was built under R version 4.0.2”\n",
      "Warning message:\n",
      "“package ‘workflows’ was built under R version 4.0.2”\n",
      "Warning message:\n",
      "“package ‘yardstick’ was built under R version 4.0.2”\n",
      "── \u001b[1mConflicts\u001b[22m ───────────────────────────────────────── tidymodels_conflicts() ──\n",
      "\u001b[31m✖\u001b[39m \u001b[34mscales\u001b[39m::\u001b[32mdiscard()\u001b[39m masks \u001b[34mpurrr\u001b[39m::discard()\n",
      "\u001b[31m✖\u001b[39m \u001b[34mdplyr\u001b[39m::\u001b[32mfilter()\u001b[39m   masks \u001b[34mstats\u001b[39m::filter()\n",
      "\u001b[31m✖\u001b[39m \u001b[34mrecipes\u001b[39m::\u001b[32mfixed()\u001b[39m  masks \u001b[34mstringr\u001b[39m::fixed()\n",
      "\u001b[31m✖\u001b[39m \u001b[34mdplyr\u001b[39m::\u001b[32mlag()\u001b[39m      masks \u001b[34mstats\u001b[39m::lag()\n",
      "\u001b[31m✖\u001b[39m \u001b[34myardstick\u001b[39m::\u001b[32mspec()\u001b[39m masks \u001b[34mreadr\u001b[39m::spec()\n",
      "\u001b[31m✖\u001b[39m \u001b[34mrecipes\u001b[39m::\u001b[32mstep()\u001b[39m   masks \u001b[34mstats\u001b[39m::step()\n",
      "\n",
      "Warning message:\n",
      "“package ‘cowplot’ was built under R version 4.0.3”\n",
      "Registered S3 method overwritten by 'GGally':\n",
      "  method from   \n",
      "  +.gg   ggplot2\n",
      "\n"
     ]
    }
   ],
   "source": [
    "library(tidyverse)\n",
    "library(digest)\n",
    "library(repr)\n",
    "library(tidymodels)\n",
    "library(readxl)\n",
    "library(cowplot)\n",
    "library(GGally)\n",
    "library(broom)\n",
    "library(ISLR)\n",
    "options(repr.matrix.max.rows = 6)"
   ]
  },
  {
   "cell_type": "markdown",
   "metadata": {},
   "source": [
    "#### 1.2 Setting the Seed"
   ]
  },
  {
   "cell_type": "markdown",
   "metadata": {},
   "source": [
    "For the work to be reproducible, we will set a seed before we do the analysis in order to making a constant in the randomness."
   ]
  },
  {
   "cell_type": "code",
   "execution_count": 4,
   "metadata": {},
   "outputs": [],
   "source": [
    "set.seed(123)"
   ]
  },
  {
   "cell_type": "markdown",
   "metadata": {},
   "source": [
    "#### 1.3 Reading the Data\n",
    "\n",
    "Reading the dataset from the online data folder.\n",
    "\n",
    "In the original dataset, sheet 2 was already labelled as training data, and sheet 3 was labelled as testing data.\n",
    "\n",
    "We have seen from below table 1.3.1 and table 1.3.2  and we can see that the whole dataset has 403 data including training dataset has 258 data and the testing dataset has 145 data.\n",
    "\n",
    "Here, We can find out that the proportion of the training data is around 64%, while the testing data is around 36%.\n",
    "\n",
    "After examining the proportions of data in each sheet, we came to the conclusion that they were in fact labelled correctly due to the higher proportion of data in the sheet 2 and a lower proportion of data in sheet 3.\n",
    "\n",
    "Therefore, we didn't need to split the data ourselves and we don't need to split the data ourselves.\n",
    "\n",
    "data_1 is the training data selected from sheet 2."
   ]
  },
  {
   "cell_type": "code",
   "execution_count": 5,
   "metadata": {},
   "outputs": [
    {
     "name": "stderr",
     "output_type": "stream",
     "text": [
      "New names:\n",
      "* `` -> ...7\n",
      "* `` -> ...8\n",
      "\n"
     ]
    },
    {
     "data": {
      "text/html": [
       "<table>\n",
       "<caption>A tibble: 258 × 6</caption>\n",
       "<thead>\n",
       "\t<tr><th scope=col>STG</th><th scope=col>SCG</th><th scope=col>STR</th><th scope=col>LPR</th><th scope=col>PEG</th><th scope=col>UNS</th></tr>\n",
       "\t<tr><th scope=col>&lt;dbl&gt;</th><th scope=col>&lt;dbl&gt;</th><th scope=col>&lt;dbl&gt;</th><th scope=col>&lt;dbl&gt;</th><th scope=col>&lt;dbl&gt;</th><th scope=col>&lt;chr&gt;</th></tr>\n",
       "</thead>\n",
       "<tbody>\n",
       "\t<tr><td>0.00</td><td>0.00</td><td>0.00</td><td>0.00</td><td>0.00</td><td>very_low</td></tr>\n",
       "\t<tr><td>0.08</td><td>0.08</td><td>0.10</td><td>0.24</td><td>0.90</td><td>High    </td></tr>\n",
       "\t<tr><td>0.06</td><td>0.06</td><td>0.05</td><td>0.25</td><td>0.33</td><td>Low     </td></tr>\n",
       "\t<tr><td>⋮</td><td>⋮</td><td>⋮</td><td>⋮</td><td>⋮</td><td>⋮</td></tr>\n",
       "\t<tr><td>0.54</td><td>0.82</td><td>0.71</td><td>0.29</td><td>0.77</td><td>High  </td></tr>\n",
       "\t<tr><td>0.50</td><td>0.75</td><td>0.81</td><td>0.61</td><td>0.26</td><td>Middle</td></tr>\n",
       "\t<tr><td>0.66</td><td>0.90</td><td>0.76</td><td>0.87</td><td>0.74</td><td>High  </td></tr>\n",
       "</tbody>\n",
       "</table>\n"
      ],
      "text/latex": [
       "A tibble: 258 × 6\n",
       "\\begin{tabular}{llllll}\n",
       " STG & SCG & STR & LPR & PEG & UNS\\\\\n",
       " <dbl> & <dbl> & <dbl> & <dbl> & <dbl> & <chr>\\\\\n",
       "\\hline\n",
       "\t 0.00 & 0.00 & 0.00 & 0.00 & 0.00 & very\\_low\\\\\n",
       "\t 0.08 & 0.08 & 0.10 & 0.24 & 0.90 & High    \\\\\n",
       "\t 0.06 & 0.06 & 0.05 & 0.25 & 0.33 & Low     \\\\\n",
       "\t ⋮ & ⋮ & ⋮ & ⋮ & ⋮ & ⋮\\\\\n",
       "\t 0.54 & 0.82 & 0.71 & 0.29 & 0.77 & High  \\\\\n",
       "\t 0.50 & 0.75 & 0.81 & 0.61 & 0.26 & Middle\\\\\n",
       "\t 0.66 & 0.90 & 0.76 & 0.87 & 0.74 & High  \\\\\n",
       "\\end{tabular}\n"
      ],
      "text/markdown": [
       "\n",
       "A tibble: 258 × 6\n",
       "\n",
       "| STG &lt;dbl&gt; | SCG &lt;dbl&gt; | STR &lt;dbl&gt; | LPR &lt;dbl&gt; | PEG &lt;dbl&gt; | UNS &lt;chr&gt; |\n",
       "|---|---|---|---|---|---|\n",
       "| 0.00 | 0.00 | 0.00 | 0.00 | 0.00 | very_low |\n",
       "| 0.08 | 0.08 | 0.10 | 0.24 | 0.90 | High     |\n",
       "| 0.06 | 0.06 | 0.05 | 0.25 | 0.33 | Low      |\n",
       "| ⋮ | ⋮ | ⋮ | ⋮ | ⋮ | ⋮ |\n",
       "| 0.54 | 0.82 | 0.71 | 0.29 | 0.77 | High   |\n",
       "| 0.50 | 0.75 | 0.81 | 0.61 | 0.26 | Middle |\n",
       "| 0.66 | 0.90 | 0.76 | 0.87 | 0.74 | High   |\n",
       "\n"
      ],
      "text/plain": [
       "    STG  SCG  STR  LPR  PEG  UNS     \n",
       "1   0.00 0.00 0.00 0.00 0.00 very_low\n",
       "2   0.08 0.08 0.10 0.24 0.90 High    \n",
       "3   0.06 0.06 0.05 0.25 0.33 Low     \n",
       "⋮   ⋮    ⋮    ⋮    ⋮    ⋮    ⋮       \n",
       "256 0.54 0.82 0.71 0.29 0.77 High    \n",
       "257 0.50 0.75 0.81 0.61 0.26 Middle  \n",
       "258 0.66 0.90 0.76 0.87 0.74 High    "
      ]
     },
     "metadata": {},
     "output_type": "display_data"
    }
   ],
   "source": [
    "url <- \"https://archive.ics.uci.edu/ml/machine-learning-databases/00257/Data_User_Modeling_Dataset_Hamdi%20Tolga%20KAHRAMAN.xls\"\n",
    "\n",
    "download.file(url, \"data.xls\")\n",
    "data_1 <- read_excel(\"data.xls\", sheet = 2) %>%\n",
    "select(STG,SCG,STR,LPR,PEG,UNS)\n",
    "data_1"
   ]
  },
  {
   "cell_type": "markdown",
   "metadata": {},
   "source": [
    "Table 1.3.1 The training data set of the user knowledge."
   ]
  },
  {
   "cell_type": "markdown",
   "metadata": {},
   "source": [
    "data_2 is the testing data selected from sheet 3."
   ]
  },
  {
   "cell_type": "code",
   "execution_count": 6,
   "metadata": {},
   "outputs": [
    {
     "name": "stderr",
     "output_type": "stream",
     "text": [
      "New names:\n",
      "* `` -> ...7\n",
      "* `` -> ...8\n",
      "\n"
     ]
    },
    {
     "data": {
      "text/html": [
       "<table>\n",
       "<caption>A tibble: 145 × 6</caption>\n",
       "<thead>\n",
       "\t<tr><th scope=col>STG</th><th scope=col>SCG</th><th scope=col>STR</th><th scope=col>LPR</th><th scope=col>PEG</th><th scope=col>UNS</th></tr>\n",
       "\t<tr><th scope=col>&lt;dbl&gt;</th><th scope=col>&lt;dbl&gt;</th><th scope=col>&lt;dbl&gt;</th><th scope=col>&lt;dbl&gt;</th><th scope=col>&lt;dbl&gt;</th><th scope=col>&lt;chr&gt;</th></tr>\n",
       "</thead>\n",
       "<tbody>\n",
       "\t<tr><td>0.00</td><td>0.10</td><td>0.50</td><td>0.26</td><td>0.05</td><td>Very Low</td></tr>\n",
       "\t<tr><td>0.05</td><td>0.05</td><td>0.55</td><td>0.60</td><td>0.14</td><td>Low     </td></tr>\n",
       "\t<tr><td>0.08</td><td>0.18</td><td>0.63</td><td>0.60</td><td>0.85</td><td>High    </td></tr>\n",
       "\t<tr><td>⋮</td><td>⋮</td><td>⋮</td><td>⋮</td><td>⋮</td><td>⋮</td></tr>\n",
       "\t<tr><td>0.56</td><td>0.60</td><td>0.77</td><td>0.13</td><td>0.32</td><td>Low   </td></tr>\n",
       "\t<tr><td>0.66</td><td>0.68</td><td>0.81</td><td>0.57</td><td>0.57</td><td>Middle</td></tr>\n",
       "\t<tr><td>0.68</td><td>0.64</td><td>0.79</td><td>0.97</td><td>0.24</td><td>Middle</td></tr>\n",
       "</tbody>\n",
       "</table>\n"
      ],
      "text/latex": [
       "A tibble: 145 × 6\n",
       "\\begin{tabular}{llllll}\n",
       " STG & SCG & STR & LPR & PEG & UNS\\\\\n",
       " <dbl> & <dbl> & <dbl> & <dbl> & <dbl> & <chr>\\\\\n",
       "\\hline\n",
       "\t 0.00 & 0.10 & 0.50 & 0.26 & 0.05 & Very Low\\\\\n",
       "\t 0.05 & 0.05 & 0.55 & 0.60 & 0.14 & Low     \\\\\n",
       "\t 0.08 & 0.18 & 0.63 & 0.60 & 0.85 & High    \\\\\n",
       "\t ⋮ & ⋮ & ⋮ & ⋮ & ⋮ & ⋮\\\\\n",
       "\t 0.56 & 0.60 & 0.77 & 0.13 & 0.32 & Low   \\\\\n",
       "\t 0.66 & 0.68 & 0.81 & 0.57 & 0.57 & Middle\\\\\n",
       "\t 0.68 & 0.64 & 0.79 & 0.97 & 0.24 & Middle\\\\\n",
       "\\end{tabular}\n"
      ],
      "text/markdown": [
       "\n",
       "A tibble: 145 × 6\n",
       "\n",
       "| STG &lt;dbl&gt; | SCG &lt;dbl&gt; | STR &lt;dbl&gt; | LPR &lt;dbl&gt; | PEG &lt;dbl&gt; | UNS &lt;chr&gt; |\n",
       "|---|---|---|---|---|---|\n",
       "| 0.00 | 0.10 | 0.50 | 0.26 | 0.05 | Very Low |\n",
       "| 0.05 | 0.05 | 0.55 | 0.60 | 0.14 | Low      |\n",
       "| 0.08 | 0.18 | 0.63 | 0.60 | 0.85 | High     |\n",
       "| ⋮ | ⋮ | ⋮ | ⋮ | ⋮ | ⋮ |\n",
       "| 0.56 | 0.60 | 0.77 | 0.13 | 0.32 | Low    |\n",
       "| 0.66 | 0.68 | 0.81 | 0.57 | 0.57 | Middle |\n",
       "| 0.68 | 0.64 | 0.79 | 0.97 | 0.24 | Middle |\n",
       "\n"
      ],
      "text/plain": [
       "    STG  SCG  STR  LPR  PEG  UNS     \n",
       "1   0.00 0.10 0.50 0.26 0.05 Very Low\n",
       "2   0.05 0.05 0.55 0.60 0.14 Low     \n",
       "3   0.08 0.18 0.63 0.60 0.85 High    \n",
       "⋮   ⋮    ⋮    ⋮    ⋮    ⋮    ⋮       \n",
       "143 0.56 0.60 0.77 0.13 0.32 Low     \n",
       "144 0.66 0.68 0.81 0.57 0.57 Middle  \n",
       "145 0.68 0.64 0.79 0.97 0.24 Middle  "
      ]
     },
     "metadata": {},
     "output_type": "display_data"
    }
   ],
   "source": [
    "data_2 <- read_excel(\"data.xls\", sheet = 3)%>%\n",
    "select(STG,SCG,STR,LPR,PEG,UNS)\n",
    "data_2 "
   ]
  },
  {
   "cell_type": "markdown",
   "metadata": {},
   "source": [
    "Table 1.3.2 The testing data set of the user knowledge."
   ]
  },
  {
   "cell_type": "markdown",
   "metadata": {},
   "source": [
    "* STG: the degree of study time for goal object materials\n",
    "* SCG: the degree of repetition number of user for goal object materials \n",
    "* STR: the degree of study time of user for related objects with goal object\n",
    "* LPR: the exam performance of user for related objects with goal object\n",
    "* PEG: the exam performance of user for goal objects\n",
    "* UNS: the knowledge level of user\n",
    "\n",
    "We can see from the above tables that the data is already tidy, since each row is a single observation, each column is a single variable, and each value is a single cell. We do not need to do any further tidying. "
   ]
  },
  {
   "cell_type": "markdown",
   "metadata": {},
   "source": [
    "#### 1.4 Determing the Predictor(s) and the Response Variable(s).\n",
    "comparing distributions of each predictor variable"
   ]
  },
  {
   "cell_type": "code",
   "execution_count": 7,
   "metadata": {},
   "outputs": [
    {
     "name": "stderr",
     "output_type": "stream",
     "text": [
      "`stat_bin()` using `bins = 30`. Pick better value with `binwidth`.\n",
      "\n",
      "`stat_bin()` using `bins = 30`. Pick better value with `binwidth`.\n",
      "\n",
      "`stat_bin()` using `bins = 30`. Pick better value with `binwidth`.\n",
      "\n",
      "`stat_bin()` using `bins = 30`. Pick better value with `binwidth`.\n",
      "\n",
      "`stat_bin()` using `bins = 30`. Pick better value with `binwidth`.\n",
      "\n"
     ]
    },
    {
     "data": {
      "image/png": "[encoded data removed]",
      "text/plain": [
       "plot without title"
      ]
     },
     "metadata": {
      "image/png": {
       "height": 420,
       "width": 420
      }
     },
     "output_type": "display_data"
    }
   ],
   "source": [
    "predictors <- ggpairs(data_1) + theme_bw()\n",
    "predictors"
   ]
  },
  {
   "cell_type": "markdown",
   "metadata": {},
   "source": [
    "       Figure1.4.1 ggpairs plot among the six variables"
   ]
  },
  {
   "cell_type": "markdown",
   "metadata": {},
   "source": [
    "To choose the variables we wish to use as predictors, we compared the four variables to PEG (exam performance) using a ggpairs visualization."
   ]
  },
  {
   "cell_type": "markdown",
   "metadata": {},
   "source": [
    "After plotting the ggplot, we have the evidence to observe that there may be a relationship between STG and PEG"
   ]
  },
  {
   "cell_type": "markdown",
   "metadata": {},
   "source": [
    "In regards to why we are only choosing one predictor, it would be extremely difficult (within the scope of this course) to plot the final results, since all of our variables/columns (except UNS) are numerical, and PEG (which is what we are trying to predict) is also numerical. \n"
   ]
  },
  {
   "cell_type": "markdown",
   "metadata": {},
   "source": [
    "Therefore, the one predictor we have chosen to use in our regression is STG. "
   ]
  },
  {
   "cell_type": "markdown",
   "metadata": {},
   "source": [
    "#### 1.5 Cleaning and Wrangling the Data\n",
    "Wrangling the data and removing irrelevant columns. $\\newline$\n",
    "Keeping just STG and PEG from the training set. $\\newline$\n",
    "Because STG and PEG are variables that we are interested in."
   ]
  },
  {
   "cell_type": "code",
   "execution_count": 8,
   "metadata": {},
   "outputs": [
    {
     "data": {
      "text/html": [
       "<table>\n",
       "<caption>A tibble: 258 × 2</caption>\n",
       "<thead>\n",
       "\t<tr><th scope=col>STG</th><th scope=col>PEG</th></tr>\n",
       "\t<tr><th scope=col>&lt;dbl&gt;</th><th scope=col>&lt;dbl&gt;</th></tr>\n",
       "</thead>\n",
       "<tbody>\n",
       "\t<tr><td>0.00</td><td>0.00</td></tr>\n",
       "\t<tr><td>0.08</td><td>0.90</td></tr>\n",
       "\t<tr><td>0.06</td><td>0.33</td></tr>\n",
       "\t<tr><td>⋮</td><td>⋮</td></tr>\n",
       "\t<tr><td>0.54</td><td>0.77</td></tr>\n",
       "\t<tr><td>0.50</td><td>0.26</td></tr>\n",
       "\t<tr><td>0.66</td><td>0.74</td></tr>\n",
       "</tbody>\n",
       "</table>\n"
      ],
      "text/latex": [
       "A tibble: 258 × 2\n",
       "\\begin{tabular}{ll}\n",
       " STG & PEG\\\\\n",
       " <dbl> & <dbl>\\\\\n",
       "\\hline\n",
       "\t 0.00 & 0.00\\\\\n",
       "\t 0.08 & 0.90\\\\\n",
       "\t 0.06 & 0.33\\\\\n",
       "\t ⋮ & ⋮\\\\\n",
       "\t 0.54 & 0.77\\\\\n",
       "\t 0.50 & 0.26\\\\\n",
       "\t 0.66 & 0.74\\\\\n",
       "\\end{tabular}\n"
      ],
      "text/markdown": [
       "\n",
       "A tibble: 258 × 2\n",
       "\n",
       "| STG &lt;dbl&gt; | PEG &lt;dbl&gt; |\n",
       "|---|---|\n",
       "| 0.00 | 0.00 |\n",
       "| 0.08 | 0.90 |\n",
       "| 0.06 | 0.33 |\n",
       "| ⋮ | ⋮ |\n",
       "| 0.54 | 0.77 |\n",
       "| 0.50 | 0.26 |\n",
       "| 0.66 | 0.74 |\n",
       "\n"
      ],
      "text/plain": [
       "    STG  PEG \n",
       "1   0.00 0.00\n",
       "2   0.08 0.90\n",
       "3   0.06 0.33\n",
       "⋮   ⋮    ⋮   \n",
       "256 0.54 0.77\n",
       "257 0.50 0.26\n",
       "258 0.66 0.74"
      ]
     },
     "metadata": {},
     "output_type": "display_data"
    }
   ],
   "source": [
    "user_training <- data_1 %>%\n",
    "select(STG,PEG) \n",
    "user_training"
   ]
  },
  {
   "cell_type": "markdown",
   "metadata": {},
   "source": [
    "Table 1.5.1 The training dataset of the STG and PEG"
   ]
  },
  {
   "cell_type": "markdown",
   "metadata": {},
   "source": [
    "Keeping just STG and PEG from the testing set."
   ]
  },
  {
   "cell_type": "code",
   "execution_count": 9,
   "metadata": {},
   "outputs": [
    {
     "data": {
      "text/html": [
       "<table>\n",
       "<caption>A tibble: 145 × 2</caption>\n",
       "<thead>\n",
       "\t<tr><th scope=col>STG</th><th scope=col>PEG</th></tr>\n",
       "\t<tr><th scope=col>&lt;dbl&gt;</th><th scope=col>&lt;dbl&gt;</th></tr>\n",
       "</thead>\n",
       "<tbody>\n",
       "\t<tr><td>0.00</td><td>0.05</td></tr>\n",
       "\t<tr><td>0.05</td><td>0.14</td></tr>\n",
       "\t<tr><td>0.08</td><td>0.85</td></tr>\n",
       "\t<tr><td>⋮</td><td>⋮</td></tr>\n",
       "\t<tr><td>0.56</td><td>0.32</td></tr>\n",
       "\t<tr><td>0.66</td><td>0.57</td></tr>\n",
       "\t<tr><td>0.68</td><td>0.24</td></tr>\n",
       "</tbody>\n",
       "</table>\n"
      ],
      "text/latex": [
       "A tibble: 145 × 2\n",
       "\\begin{tabular}{ll}\n",
       " STG & PEG\\\\\n",
       " <dbl> & <dbl>\\\\\n",
       "\\hline\n",
       "\t 0.00 & 0.05\\\\\n",
       "\t 0.05 & 0.14\\\\\n",
       "\t 0.08 & 0.85\\\\\n",
       "\t ⋮ & ⋮\\\\\n",
       "\t 0.56 & 0.32\\\\\n",
       "\t 0.66 & 0.57\\\\\n",
       "\t 0.68 & 0.24\\\\\n",
       "\\end{tabular}\n"
      ],
      "text/markdown": [
       "\n",
       "A tibble: 145 × 2\n",
       "\n",
       "| STG &lt;dbl&gt; | PEG &lt;dbl&gt; |\n",
       "|---|---|\n",
       "| 0.00 | 0.05 |\n",
       "| 0.05 | 0.14 |\n",
       "| 0.08 | 0.85 |\n",
       "| ⋮ | ⋮ |\n",
       "| 0.56 | 0.32 |\n",
       "| 0.66 | 0.57 |\n",
       "| 0.68 | 0.24 |\n",
       "\n"
      ],
      "text/plain": [
       "    STG  PEG \n",
       "1   0.00 0.05\n",
       "2   0.05 0.14\n",
       "3   0.08 0.85\n",
       "⋮   ⋮    ⋮   \n",
       "143 0.56 0.32\n",
       "144 0.66 0.57\n",
       "145 0.68 0.24"
      ]
     },
     "metadata": {},
     "output_type": "display_data"
    }
   ],
   "source": [
    "user_testing <-data_2 %>%\n",
    "select(STG,PEG)\n",
    "user_testing"
   ]
  },
  {
   "cell_type": "markdown",
   "metadata": {},
   "source": [
    "Table 1.5.2 The testing dataset of the STG and PEG"
   ]
  },
  {
   "cell_type": "markdown",
   "metadata": {},
   "source": [
    "#### 1.7 Summarizing the Data\n",
    "Table 1.7.1  is finding the means of the predictor and explanatory variables we plan to use in our analysis."
   ]
  },
  {
   "cell_type": "code",
   "execution_count": 10,
   "metadata": {},
   "outputs": [
    {
     "data": {
      "text/html": [
       "<table>\n",
       "<caption>A tibble: 1 × 2</caption>\n",
       "<thead>\n",
       "\t<tr><th scope=col>STG</th><th scope=col>PEG</th></tr>\n",
       "\t<tr><th scope=col>&lt;dbl&gt;</th><th scope=col>&lt;dbl&gt;</th></tr>\n",
       "</thead>\n",
       "<tbody>\n",
       "\t<tr><td>0.3711473</td><td>0.4585388</td></tr>\n",
       "</tbody>\n",
       "</table>\n"
      ],
      "text/latex": [
       "A tibble: 1 × 2\n",
       "\\begin{tabular}{ll}\n",
       " STG & PEG\\\\\n",
       " <dbl> & <dbl>\\\\\n",
       "\\hline\n",
       "\t 0.3711473 & 0.4585388\\\\\n",
       "\\end{tabular}\n"
      ],
      "text/markdown": [
       "\n",
       "A tibble: 1 × 2\n",
       "\n",
       "| STG &lt;dbl&gt; | PEG &lt;dbl&gt; |\n",
       "|---|---|\n",
       "| 0.3711473 | 0.4585388 |\n",
       "\n"
      ],
      "text/plain": [
       "  STG       PEG      \n",
       "1 0.3711473 0.4585388"
      ]
     },
     "metadata": {},
     "output_type": "display_data"
    }
   ],
   "source": [
    "user_means <- user_training %>%\n",
    "map_df(mean, na.rm =TRUE)\n",
    "user_means"
   ]
  },
  {
   "cell_type": "markdown",
   "metadata": {},
   "source": [
    "Table 1.7.1 the means of STG and PEG"
   ]
  },
  {
   "cell_type": "markdown",
   "metadata": {},
   "source": [
    "Table 1.7.2 is finding the maximum of the predictor and explanatory variables we plan to use in our analysis."
   ]
  },
  {
   "cell_type": "code",
   "execution_count": 11,
   "metadata": {},
   "outputs": [
    {
     "data": {
      "text/html": [
       "<table>\n",
       "<caption>A tibble: 1 × 2</caption>\n",
       "<thead>\n",
       "\t<tr><th scope=col>STG</th><th scope=col>PEG</th></tr>\n",
       "\t<tr><th scope=col>&lt;dbl&gt;</th><th scope=col>&lt;dbl&gt;</th></tr>\n",
       "</thead>\n",
       "<tbody>\n",
       "\t<tr><td>0.99</td><td>0.93</td></tr>\n",
       "</tbody>\n",
       "</table>\n"
      ],
      "text/latex": [
       "A tibble: 1 × 2\n",
       "\\begin{tabular}{ll}\n",
       " STG & PEG\\\\\n",
       " <dbl> & <dbl>\\\\\n",
       "\\hline\n",
       "\t 0.99 & 0.93\\\\\n",
       "\\end{tabular}\n"
      ],
      "text/markdown": [
       "\n",
       "A tibble: 1 × 2\n",
       "\n",
       "| STG &lt;dbl&gt; | PEG &lt;dbl&gt; |\n",
       "|---|---|\n",
       "| 0.99 | 0.93 |\n",
       "\n"
      ],
      "text/plain": [
       "  STG  PEG \n",
       "1 0.99 0.93"
      ]
     },
     "metadata": {},
     "output_type": "display_data"
    }
   ],
   "source": [
    "maximum <- user_training %>%\n",
    "map_df(max,na.rm =TRUE)\n",
    "maximum"
   ]
  },
  {
   "cell_type": "markdown",
   "metadata": {},
   "source": [
    "Table 1.7.2 the maximums of STG and PEG"
   ]
  },
  {
   "cell_type": "markdown",
   "metadata": {},
   "source": [
    "Table 1.7.3 is finding the minimum of the predictor and explanatory variables we plan to use in analysis."
   ]
  },
  {
   "cell_type": "code",
   "execution_count": 12,
   "metadata": {},
   "outputs": [
    {
     "data": {
      "text/html": [
       "<table>\n",
       "<caption>A tibble: 1 × 2</caption>\n",
       "<thead>\n",
       "\t<tr><th scope=col>STG</th><th scope=col>PEG</th></tr>\n",
       "\t<tr><th scope=col>&lt;dbl&gt;</th><th scope=col>&lt;dbl&gt;</th></tr>\n",
       "</thead>\n",
       "<tbody>\n",
       "\t<tr><td>0</td><td>0</td></tr>\n",
       "</tbody>\n",
       "</table>\n"
      ],
      "text/latex": [
       "A tibble: 1 × 2\n",
       "\\begin{tabular}{ll}\n",
       " STG & PEG\\\\\n",
       " <dbl> & <dbl>\\\\\n",
       "\\hline\n",
       "\t 0 & 0\\\\\n",
       "\\end{tabular}\n"
      ],
      "text/markdown": [
       "\n",
       "A tibble: 1 × 2\n",
       "\n",
       "| STG &lt;dbl&gt; | PEG &lt;dbl&gt; |\n",
       "|---|---|\n",
       "| 0 | 0 |\n",
       "\n"
      ],
      "text/plain": [
       "  STG PEG\n",
       "1 0   0  "
      ]
     },
     "metadata": {},
     "output_type": "display_data"
    }
   ],
   "source": [
    "minimum <- user_training %>%\n",
    "map_df(min,na.rm =TRUE)\n",
    "minimum"
   ]
  },
  {
   "cell_type": "markdown",
   "metadata": {},
   "source": [
    "Table 1.7.3 the minimums of STG and PEG"
   ]
  },
  {
   "cell_type": "markdown",
   "metadata": {},
   "source": [
    "By observing the means(STG is 0.37 and PEG is 0.46), maximums(STG is 0.99 and PEG is 0.93) and minimums(STG is 0 and PEG is 0),\n",
    "all of these three summaries show that the values of these two variables(STG and PEG) are close in mean, maximum and minimum.\n",
    "\n",
    "Hence we think these two variables are in roughly same scale here and we don't need to scale/standardize the data anymore."
   ]
  },
  {
   "cell_type": "markdown",
   "metadata": {},
   "source": [
    "Table 1.7.4 is finding the number of observations in the predictor and explanatory variables we plan to use in analysis."
   ]
  },
  {
   "cell_type": "code",
   "execution_count": 13,
   "metadata": {},
   "outputs": [
    {
     "data": {
      "text/html": [
       "<table>\n",
       "<caption>A tibble: 1 × 1</caption>\n",
       "<thead>\n",
       "\t<tr><th scope=col>n</th></tr>\n",
       "\t<tr><th scope=col>&lt;int&gt;</th></tr>\n",
       "</thead>\n",
       "<tbody>\n",
       "\t<tr><td>258</td></tr>\n",
       "</tbody>\n",
       "</table>\n"
      ],
      "text/latex": [
       "A tibble: 1 × 1\n",
       "\\begin{tabular}{l}\n",
       " n\\\\\n",
       " <int>\\\\\n",
       "\\hline\n",
       "\t 258\\\\\n",
       "\\end{tabular}\n"
      ],
      "text/markdown": [
       "\n",
       "A tibble: 1 × 1\n",
       "\n",
       "| n &lt;int&gt; |\n",
       "|---|\n",
       "| 258 |\n",
       "\n"
      ],
      "text/plain": [
       "  n  \n",
       "1 258"
      ]
     },
     "metadata": {},
     "output_type": "display_data"
    }
   ],
   "source": [
    "observations <- user_training %>%\n",
    "summarize(n = n())\n",
    "observations"
   ]
  },
  {
   "cell_type": "markdown",
   "metadata": {},
   "source": [
    "Table 1.7.4 is the number of observations in the predictor and explanatory variables"
   ]
  },
  {
   "cell_type": "markdown",
   "metadata": {},
   "source": [
    "Table 1.7.5 is finding how many rows have missing data"
   ]
  },
  {
   "cell_type": "code",
   "execution_count": 14,
   "metadata": {},
   "outputs": [
    {
     "data": {
      "text/html": [
       "0"
      ],
      "text/latex": [
       "0"
      ],
      "text/markdown": [
       "0"
      ],
      "text/plain": [
       "[1] 0"
      ]
     },
     "metadata": {},
     "output_type": "display_data"
    },
    {
     "data": {
      "text/html": [
       "0"
      ],
      "text/latex": [
       "0"
      ],
      "text/markdown": [
       "0"
      ],
      "text/plain": [
       "[1] 0"
      ]
     },
     "metadata": {},
     "output_type": "display_data"
    },
    {
     "data": {
      "text/html": [
       "0"
      ],
      "text/latex": [
       "0"
      ],
      "text/markdown": [
       "0"
      ],
      "text/plain": [
       "[1] 0"
      ]
     },
     "metadata": {},
     "output_type": "display_data"
    },
    {
     "data": {
      "text/html": [
       "0"
      ],
      "text/latex": [
       "0"
      ],
      "text/markdown": [
       "0"
      ],
      "text/plain": [
       "[1] 0"
      ]
     },
     "metadata": {},
     "output_type": "display_data"
    }
   ],
   "source": [
    "NA_STG_train<-sum(is.na(user_training$STG))\n",
    "NA_STG_train\n",
    "\n",
    "NA_PEG_train<-sum(is.na(user_training$PEG))\n",
    "NA_PEG_train\n",
    "\n",
    "NA_STG_test<-sum(is.na(user_testing$STG))\n",
    "NA_STG_test\n",
    "\n",
    "NA_PEG_test<-sum(is.na(user_testing$PEG))\n",
    "NA_PEG_test"
   ]
  },
  {
   "cell_type": "markdown",
   "metadata": {},
   "source": [
    "Table 1.7.5 is finding the number of rows have missing data in the predictor and explanatory variables"
   ]
  },
  {
   "cell_type": "markdown",
   "metadata": {},
   "source": [
    "As indicated above, there is no missing data in both the STG and PEG columns in our training and testing datasets."
   ]
  },
  {
   "cell_type": "markdown",
   "metadata": {},
   "source": [
    "#### 1.8 Visualizing the Data\n",
    "\n",
    "Refer back to the ggpairs plot for additional visualization. $\\newline$\n",
    "Plotting PEG against STG."
   ]
  },
  {
   "cell_type": "code",
   "execution_count": 15,
   "metadata": {},
   "outputs": [
    {
     "data": {
      "image/png": "[encoded data removed]",
      "text/plain": [
       "plot without title"
      ]
     },
     "metadata": {
      "image/png": {
       "height": 420,
       "width": 420
      }
     },
     "output_type": "display_data"
    }
   ],
   "source": [
    "peg_stg <- user_training %>%\n",
    "    ggplot(aes(x=STG, y=PEG))+ \n",
    "    geom_point()+\n",
    "    labs(y = \"Exam performance of user for goal objects (PEG)\" , x = \"Degree of study time for goal object materials (STG)\", title = \"PEG vs. STG\")+\n",
    "    theme(text=element_text(size=15))\n",
    "peg_stg"
   ]
  },
  {
   "cell_type": "markdown",
   "metadata": {},
   "source": [
    "    Figure1.8.1 The plot of the relationship between PEG and STG"
   ]
  },
  {
   "cell_type": "markdown",
   "metadata": {},
   "source": [
    "### 2.Methods"
   ]
  },
  {
   "cell_type": "markdown",
   "metadata": {},
   "source": [
    "We will be using regression to predict a student’s exam performance(PEG) based on their study time(STG). Since we are predicting a numerical value instead of a categorical value, we must use regression to evaluate and create a prediction. We will train our regression with our training data and assess its accuracy with our testing data."
   ]
  },
  {
   "cell_type": "markdown",
   "metadata": {},
   "source": [
    "After plotting PEG against STG, we can also see that the data points do not follow a clear or direct relationship. From what we can see so far, k-nn regression seems to be the better choice as it allows for more flexibility, but we will test both the accuracies of k-nn and linear regression, and compare to find the best approach. "
   ]
  },
  {
   "cell_type": "markdown",
   "metadata": {},
   "source": [
    "To visualize our results, we will plot our predictions as a line using geom_smooth overlaid our testing data to see the relationship between the two. The x-axis will be STG, and the y-axis will be PEG.\n",
    "\n",
    "To assess the accuracy, we will be calculating the Root Mean Squared Prediction Error (RMSPE) to see how well our model generalizes to future data. RMSPE is the square root of the difference between the observed and predicted value of the ith test observation, divided by the number of observations. This will indicate how well our model is able to predict on unseen data."
   ]
  },
  {
   "cell_type": "markdown",
   "metadata": {},
   "source": [
    "#### 2.1 Standardizing the data\n",
    "As a rule of thumb, standardizing our training data should be a part of the preprocessing before any predictive modelling/analysis."
   ]
  },
  {
   "cell_type": "markdown",
   "metadata": {},
   "source": [
    "But by observing the range of x-axis and y-axis on the scatterplot and the summarizing tables above, \n",
    "both the preditor and the response variable are on the same scale.\n",
    "\n",
    "Hence, we will not need to scale or standardized the data for linear regression any more."
   ]
  },
  {
   "cell_type": "markdown",
   "metadata": {},
   "source": [
    "#### 2.2 Linear Regression"
   ]
  },
  {
   "cell_type": "markdown",
   "metadata": {},
   "source": [
    "Creating and assign the linear regression model specification to an object called lm_spec.\n"
   ]
  },
  {
   "cell_type": "code",
   "execution_count": 16,
   "metadata": {},
   "outputs": [],
   "source": [
    "lm_spec <- linear_reg() %>%\n",
    "        set_engine(\"lm\") %>%\n",
    "        set_mode(\"regression\")"
   ]
  },
  {
   "cell_type": "markdown",
   "metadata": {},
   "source": [
    "Creating a recipe for the model and assign it called credit_recipe."
   ]
  },
  {
   "cell_type": "code",
   "execution_count": 17,
   "metadata": {},
   "outputs": [],
   "source": [
    "performance_recipe <- recipe(PEG~.,data=user_training)"
   ]
  },
  {
   "cell_type": "markdown",
   "metadata": {},
   "source": [
    "Fitting our simple linear regression model by using the model specification and recipe."
   ]
  },
  {
   "cell_type": "code",
   "execution_count": 18,
   "metadata": {},
   "outputs": [
    {
     "data": {
      "text/plain": [
       "══ Workflow [trained] ══════════════════════════════════════════════════════════\n",
       "\u001b[3mPreprocessor:\u001b[23m Recipe\n",
       "\u001b[3mModel:\u001b[23m linear_reg()\n",
       "\n",
       "── Preprocessor ────────────────────────────────────────────────────────────────\n",
       "0 Recipe Steps\n",
       "\n",
       "── Model ───────────────────────────────────────────────────────────────────────\n",
       "\n",
       "Call:\n",
       "stats::lm(formula = ..y ~ ., data = data)\n",
       "\n",
       "Coefficients:\n",
       "(Intercept)          STG  \n",
       "     0.3656       0.2505  \n"
      ]
     },
     "metadata": {},
     "output_type": "display_data"
    }
   ],
   "source": [
    "performance_fit <- workflow() %>%\n",
    "add_recipe(performance_recipe) %>%\n",
    "add_model(lm_spec) %>%\n",
    "fit(data = user_training)\n",
    "\n",
    "performance_fit"
   ]
  },
  {
   "cell_type": "markdown",
   "metadata": {},
   "source": [
    "Table 2.2.1 the model of linear regression between the STG and PEG"
   ]
  },
  {
   "cell_type": "markdown",
   "metadata": {},
   "source": [
    "Looking at the slopes and coefficients from the table 2.2.1 from each of the predictors, we can get our prediction model here:\n"
   ]
  },
  {
   "cell_type": "markdown",
   "metadata": {},
   "source": [
    "student performance = 0.3656 + 0.2505 * study time"
   ]
  },
  {
   "cell_type": "markdown",
   "metadata": {},
   "source": [
    "As the degree of study time increases in one unit, the degree of student performance will increase in 0.2505 unit.\n",
    "\n",
    "We don't declare the unit of STG and PEG here because in the dataset, both STG and PEG are expressed as the degree."
   ]
  },
  {
   "cell_type": "markdown",
   "metadata": {},
   "source": [
    "Calculating the RMSE to assess goodness of fit on performance_fit"
   ]
  },
  {
   "cell_type": "code",
   "execution_count": 19,
   "metadata": {},
   "outputs": [
    {
     "data": {
      "text/html": [
       "0.249233390042185"
      ],
      "text/latex": [
       "0.249233390042185"
      ],
      "text/markdown": [
       "0.249233390042185"
      ],
      "text/plain": [
       "[1] 0.2492334"
      ]
     },
     "metadata": {},
     "output_type": "display_data"
    }
   ],
   "source": [
    "lm_rmse <- performance_fit %>%\n",
    "        predict(user_training) %>%\n",
    "        bind_cols(user_training) %>%\n",
    "        metrics(truth = PEG ,estimate = .pred) %>%\n",
    "        filter(.metric == \"rmse\") %>%\n",
    "        select(.estimate) %>%\n",
    "        pull()\n",
    "lm_rmse"
   ]
  },
  {
   "cell_type": "markdown",
   "metadata": {},
   "source": [
    "Calculating the RMSPE to assess how well the model predicts on the testing data"
   ]
  },
  {
   "cell_type": "code",
   "execution_count": 20,
   "metadata": {},
   "outputs": [
    {
     "data": {
      "text/html": [
       "0.281095867238959"
      ],
      "text/latex": [
       "0.281095867238959"
      ],
      "text/markdown": [
       "0.281095867238959"
      ],
      "text/plain": [
       "[1] 0.2810959"
      ]
     },
     "metadata": {},
     "output_type": "display_data"
    }
   ],
   "source": [
    "lm_rmspe <- performance_fit %>%\n",
    "        predict(user_testing) %>%\n",
    "        bind_cols(user_testing) %>%\n",
    "        metrics(truth = PEG ,estimate = .pred) %>%\n",
    "        filter(.metric == \"rmse\") %>%\n",
    "        select(.estimate) %>%\n",
    "        pull()\n",
    "lm_rmspe"
   ]
  },
  {
   "cell_type": "markdown",
   "metadata": {},
   "source": [
    "The RMSE of linear regression is 0.249.\n",
    "\n",
    "The RMSPE of the linear regression is 0.281."
   ]
  },
  {
   "cell_type": "markdown",
   "metadata": {},
   "source": [
    "#### 2.3 K-NN Regression"
   ]
  },
  {
   "cell_type": "markdown",
   "metadata": {},
   "source": [
    "Because we have set the seed at the beginning of the report, we don't need to set seed again and the procedure is reproducible.\n",
    "\n",
    "Scaling and shifting our predictors on the training data\n",
    "\n",
    "Creating and assign the K-NN regression model specification to an object called performance_knn_recipe."
   ]
  },
  {
   "cell_type": "code",
   "execution_count": 21,
   "metadata": {},
   "outputs": [],
   "source": [
    "performance_knn_recipe <- recipe(PEG ~., data = user_training) %>%\n",
    "                        step_center(all_predictors()) %>%\n",
    "                        step_scale(all_predictors())\n",
    "\n",
    "performance_knn_spec <- nearest_neighbor(weight_func = \"rectangular\", neighbors = tune()) %>%\n",
    "                      set_engine(\"kknn\") %>%\n",
    "                      set_mode(\"regression\")\n",
    "\n",
    "performance_vfold <- vfold_cv(user_training, v = 5, strata = PEG)\n",
    "\n",
    "performance_knn_workflow <- workflow() %>%\n",
    "                        add_recipe(performance_knn_recipe) %>%\n",
    "                        add_model(performance_knn_spec)\n",
    "\n",
    "gridvals <- tibble(neighbors = seq(1,20))\n",
    "\n",
    "performance_knn_results <- performance_knn_workflow %>%\n",
    "                       tune_grid(resamples = performance_vfold, grid = gridvals) %>%\n",
    "                       collect_metrics() \n"
   ]
  },
  {
   "cell_type": "markdown",
   "metadata": {},
   "source": [
    "Selecting the value of k resulting in best RMSE"
   ]
  },
  {
   "cell_type": "code",
   "execution_count": 22,
   "metadata": {},
   "outputs": [],
   "source": [
    "kmin <- performance_knn_results %>%\n",
    "               filter(.metric == 'rmse') %>%\n",
    "               filter(mean == min(mean))  %>% \n",
    "               pull(neighbors)"
   ]
  },
  {
   "cell_type": "markdown",
   "metadata": {},
   "source": [
    "Retraining the model using that final k and predicting on held-out data"
   ]
  },
  {
   "cell_type": "code",
   "execution_count": 23,
   "metadata": {},
   "outputs": [
    {
     "data": {
      "text/html": [
       "0.227341125012816"
      ],
      "text/latex": [
       "0.227341125012816"
      ],
      "text/markdown": [
       "0.227341125012816"
      ],
      "text/plain": [
       "[1] 0.2273411"
      ]
     },
     "metadata": {},
     "output_type": "display_data"
    },
    {
     "data": {
      "text/html": [
       "0.257479542809749"
      ],
      "text/latex": [
       "0.257479542809749"
      ],
      "text/markdown": [
       "0.257479542809749"
      ],
      "text/plain": [
       "[1] 0.2574795"
      ]
     },
     "metadata": {},
     "output_type": "display_data"
    }
   ],
   "source": [
    "\n",
    "performance_spec_knn <- nearest_neighbor(weight_func = \"rectangular\", neighbors = kmin) %>%\n",
    "  set_engine(\"kknn\") %>%\n",
    "  set_mode(\"regression\")\n",
    "\n",
    "performance_fit_knn <- workflow() %>%\n",
    "  add_recipe(performance_knn_recipe) %>%\n",
    "  add_model(performance_spec_knn) %>%\n",
    "  fit(data = user_training)\n",
    "\n",
    "knn_rmse <- performance_fit_knn %>%\n",
    "  predict(user_training) %>%\n",
    "  bind_cols(user_training) %>%\n",
    "  metrics(truth = PEG, estimate = .pred)%>%\n",
    "  filter(.metric == 'rmse') %>%\n",
    "  pull(.estimate)\n",
    "\n",
    "knn_rmse\n",
    "\n",
    "knn_rmspe <- performance_fit_knn %>%\n",
    "  predict(user_testing) %>%\n",
    "  bind_cols(user_testing) %>%\n",
    "  metrics(truth = PEG, estimate = .pred)%>%\n",
    "  filter(.metric == 'rmse') %>%\n",
    "  pull(.estimate) \n",
    "\n",
    "knn_rmspe"
   ]
  },
  {
   "cell_type": "markdown",
   "metadata": {},
   "source": [
    "The RMSE of K-NN regression is 0.227.\n",
    "\n",
    "The RMSPE of K-NN linear regression is 0.257."
   ]
  },
  {
   "cell_type": "markdown",
   "metadata": {},
   "source": [
    "#### 2.4 Visuallization of the Linear Regression"
   ]
  },
  {
   "cell_type": "code",
   "execution_count": 27,
   "metadata": {},
   "outputs": [
    {
     "data": {
      "text/plain": [
       "List of 1\n",
       " $ text:List of 11\n",
       "  ..$ family       : NULL\n",
       "  ..$ face         : NULL\n",
       "  ..$ colour       : NULL\n",
       "  ..$ size         : num 20\n",
       "  ..$ hjust        : NULL\n",
       "  ..$ vjust        : NULL\n",
       "  ..$ angle        : NULL\n",
       "  ..$ lineheight   : NULL\n",
       "  ..$ margin       : NULL\n",
       "  ..$ debug        : NULL\n",
       "  ..$ inherit.blank: logi FALSE\n",
       "  ..- attr(*, \"class\")= chr [1:2] \"element_text\" \"element\"\n",
       " - attr(*, \"class\")= chr [1:2] \"theme\" \"gg\"\n",
       " - attr(*, \"complete\")= logi FALSE\n",
       " - attr(*, \"validate\")= logi TRUE"
      ]
     },
     "metadata": {},
     "output_type": "display_data"
    },
    {
     "name": "stderr",
     "output_type": "stream",
     "text": [
      "`geom_smooth()` using formula 'y ~ x'\n",
      "\n"
     ]
    },
    {
     "data": {
      "image/png": "[encoded data removed]",
      "text/plain": [
       "plot without title"
      ]
     },
     "metadata": {
      "image/png": {
       "height": 420,
       "width": 420
      }
     },
     "output_type": "display_data"
    }
   ],
   "source": [
    "lm_predictions <- user_training %>%\n",
    "    ggplot(aes(x = STG, y = PEG)) +\n",
    "        geom_point() +\n",
    "        geom_smooth(method = \"lm\", se = FALSE) +\n",
    "        xlab(\"The degree of the study time\") +\n",
    "        ylab(\"The degree of the student performance\") +\n",
    "        ggtitle(\"The linear regression fitting model between STG and PEG\")\n",
    "        theme(text = element_text(size = 20))\n",
    "lm_predictions"
   ]
  },
  {
   "cell_type": "markdown",
   "metadata": {},
   "source": [
    "Figure 2.4.1 the linear regression between STG and PEG"
   ]
  },
  {
   "cell_type": "markdown",
   "metadata": {},
   "source": [
    "#### 2.5 Visuallization of the K-NN Regression"
   ]
  },
  {
   "cell_type": "code",
   "execution_count": null,
   "metadata": {},
   "outputs": [],
   "source": []
  },
  {
   "cell_type": "markdown",
   "metadata": {},
   "source": [
    "### 3.Discussion"
   ]
  },
  {
   "cell_type": "markdown",
   "metadata": {},
   "source": []
  },
  {
   "cell_type": "markdown",
   "metadata": {},
   "source": [
    "We expect to find a positive, linear relationship between PEG and STG. As a student spends more time studying, they should perform better. Our findings will help students assess how well they are performing in comparison to the time they are spending studying. This will be beneficial to find the best study methods and learn how to study more efficiently. Some future questions to consider:"
   ]
  },
  {
   "cell_type": "markdown",
   "metadata": {},
   "source": [
    "* How much time should a student be spending studying to improve exam performance?\n",
    "* How do other factors (such as repetition, knowledge level, etc.) contribute to exam performance?"
   ]
  },
  {
   "cell_type": "markdown",
   "metadata": {},
   "source": [
    "### 4.References"
   ]
  },
  {
   "cell_type": "code",
   "execution_count": null,
   "metadata": {},
   "outputs": [],
   "source": []
  }
 ],
 "metadata": {
  "kernelspec": {
   "display_name": "R",
   "language": "R",
   "name": "ir"
  },
  "language_info": {
   "codemirror_mode": "r",
   "file_extension": ".r",
   "mimetype": "text/x-r-source",
   "name": "R",
   "pygments_lexer": "r",
   "version": "4.0.0"
  }
 },
 "nbformat": 4,
 "nbformat_minor": 4
}
